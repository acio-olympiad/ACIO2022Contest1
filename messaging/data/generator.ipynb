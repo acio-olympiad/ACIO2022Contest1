{
 "cells": [
  {
   "cell_type": "markdown",
   "id": "bd43891a-d922-4424-a36d-7258c9174f32",
   "metadata": {},
   "source": [
    "# Problem 2 - Range Messaging"
   ]
  },
  {
   "cell_type": "code",
   "execution_count": 1,
   "id": "04ebba86-29b9-4c97-bab6-a698f6b3ea70",
   "metadata": {},
   "outputs": [],
   "source": [
    "import numpy as np\n",
    "from tqdm import tqdm\n",
    "import os\n",
    "\n",
    "rng = np.random.default_rng(34893745)"
   ]
  },
  {
   "cell_type": "code",
   "execution_count": 2,
   "id": "3aa70f1b-2efe-4ccd-b5cc-1eaed62c3d90",
   "metadata": {},
   "outputs": [
    {
     "data": {
      "text/plain": [
       "array([0, 1, 2, 3, 4])"
      ]
     },
     "execution_count": 2,
     "metadata": {},
     "output_type": "execute_result"
    }
   ],
   "source": [
    "np.arange(5)"
   ]
  },
  {
   "cell_type": "code",
   "execution_count": 20,
   "id": "0f0efc31-f9ee-4bc5-af41-fbaf621409f7",
   "metadata": {},
   "outputs": [],
   "source": [
    "class Case:\n",
    "    def __init__(self, name, N, edges):\n",
    "        print(f\"+ {N}-{name}\")\n",
    "        self.name = name\n",
    "        self.N = N\n",
    "        self.edges = [(a+1, b+1) for a, b in edges]\n",
    "        self.tags = []\n",
    "    \n",
    "    def validate(self):\n",
    "        seen_edges = set()\n",
    "        assert 0 <= len(self.edges) <= 100000\n",
    "        assert 1 <= self.N <= 100000\n",
    "        for a, b in self.edges:\n",
    "            assert (a, b) not in seen_edges and (b, a) not in seen_edges\n",
    "            assert 1 <= a <= self.N\n",
    "            assert 1 <= b <= self.N\n",
    "            seen_edges.add((a, b))\n",
    "    \n",
    "    def save(self, path, index):\n",
    "        alltags = \"-\".join(self.tags)\n",
    "        output_file = os.path.join(path, f\"{self.N}-{self.name}-{alltags}-{index}.in\")\n",
    "        with open(output_file, \"w\") as f:\n",
    "            f.write(f\"{self.N} {len(self.edges)}\\n\")\n",
    "            for a, b in self.edges:\n",
    "                f.write(f\"{a} {b}\\n\")\n",
    "        return output_file\n",
    "\n",
    "    def __str__(self):\n",
    "        alltags = \"-\".join(self.tags)\n",
    "        return f\"[Case {self.N}-{self.name}-{alltags}: (N={self.N}, M={len(self.edges)}), {self.edges}]\""
   ]
  },
  {
   "cell_type": "code",
   "execution_count": 4,
   "id": "ef9c5829-cbab-4ab8-850e-24113cc6d75a",
   "metadata": {},
   "outputs": [],
   "source": [
    "def min_case():\n",
    "    return Case(\"min\", 1, [])\n",
    "\n",
    "def max_case():\n",
    "    return Case(\"max-empty\", 100000, [])"
   ]
  },
  {
   "cell_type": "code",
   "execution_count": 5,
   "id": "4c5f1fe1-e56b-44a7-a5da-a7232edeceaf",
   "metadata": {},
   "outputs": [],
   "source": [
    "def sample_zipf(N, alpha):\n",
    "    distr = rng.zipf(alpha, N)\n",
    "    uni = np.unique(distr)\n",
    "    lookup = { v: i for i, v in enumerate(uni) }\n",
    "    data = [lookup[e] for e in distr]\n",
    "    return f\"zipf-{alpha}\", N, data\n",
    "\n",
    "def sample_weighted(N, weights):\n",
    "    data = rng.choice(np.arange(len(weights)), N, True, weights)\n",
    "    return \"weighted\", N, data\n",
    "\n",
    "def sample_uniform(N, K):\n",
    "    data = rng.permutation([i % K for i in range(N)])\n",
    "    return f\"uniform-{K}\", N, data"
   ]
  },
  {
   "cell_type": "code",
   "execution_count": 6,
   "id": "359312b5-e81e-41bd-9dd9-805b83633a6d",
   "metadata": {},
   "outputs": [],
   "source": [
    "def connect_star(sample):\n",
    "    tag, N, data = sample\n",
    "    occ = {}\n",
    "    edges = []\n",
    "    for i, e in enumerate(data):\n",
    "        if e not in occ:\n",
    "            occ[e] = i\n",
    "        else:\n",
    "            edges.append((occ[e], i))\n",
    "    c = Case(\"star\", N, edges)\n",
    "    c.tags.append(tag)\n",
    "    return c\n",
    "\n",
    "def connect_random(sample, crosslink_max=-1):\n",
    "    tag, N, data = sample\n",
    "    occ = {}\n",
    "    edges = []\n",
    "    for i, e in enumerate(data):\n",
    "        if e not in occ:\n",
    "            occ[e] = [i]\n",
    "        else:\n",
    "            edges.append((occ[e][rng.integers(0, len(occ[e]))], i))\n",
    "            occ[e].append(i)\n",
    "    if len(edges) < crosslink_max:\n",
    "        kl = list(occ.keys())\n",
    "        r = rng.integers(0, len(kl), crosslink_max - len(edges))\n",
    "        for grp in np.array(kl)[r]:\n",
    "            i, j = rng.integers(0, len(occ[grp]), 2)\n",
    "            a, b = occ[grp][i], occ[grp][j]\n",
    "            if a > b:\n",
    "                a, b = b, a\n",
    "            edges.append((a, b))\n",
    "    c = Case(\"randomtree\", N, list(set(edges)))\n",
    "    if crosslink_max != -1:\n",
    "        assert len(edges) <= crosslink_max\n",
    "        c.tags.append(\"crosslink\")\n",
    "    c.tags.append(tag)\n",
    "    return c"
   ]
  },
  {
   "cell_type": "code",
   "execution_count": 29,
   "id": "8759d036-3560-48e1-bc9b-5452b32e2e69",
   "metadata": {},
   "outputs": [],
   "source": [
    "def hideandseek(N):\n",
    "    res = np.zeros(N, dtype=int)\n",
    "    a, b = rng.choice(np.arange(0, N), 2, False)\n",
    "    res[a] = 1\n",
    "    res[b] = 2\n",
    "    return \"hidden\", N, res\n",
    "\n",
    "def zeros(N):\n",
    "    res = np.zeros(N, dtype=int)\n",
    "    return \"zeros\", N, res\n",
    "\n",
    "def modify_sample_sub3(sample):\n",
    "    for i, x in enumerate([0, 1, sample[1] - 1]):\n",
    "        sample[2][x] = i\n",
    "    return (sample[0] + \"-sub3\", sample[1], sample[2])"
   ]
  },
  {
   "cell_type": "code",
   "execution_count": 30,
   "id": "98be9436-79ef-4b39-8472-0234447bfa41",
   "metadata": {},
   "outputs": [
    {
     "data": {
      "text/plain": [
       "'[0 1 0 0 0 0 0 0 0 0 0 0 0 0 0 0 0 0 0 0 0 0 0 0 0 0 0 0 0 0 2 0 0 0 0 0 0\\n 0 0 0 0 0 0 0 0 0 0 0 0 0 0 0 0 0 0 0 0 0 0 0 0 0 0 0 0 0 0 0 0 0 1 0 0 0\\n 0 0 0 0 0 0 0 0 0 0 0 0 0 0 0 0 0 0 0 0 0 0 0 0 0 2]'"
      ]
     },
     "execution_count": 30,
     "metadata": {},
     "output_type": "execute_result"
    }
   ],
   "source": [
    "str(modify_sample_sub3(hideandseek(100))[2])"
   ]
  },
  {
   "cell_type": "markdown",
   "id": "a195582b-4b70-4890-aeb3-f5822882a9b4",
   "metadata": {},
   "source": [
    "# Dataplan\n",
    "# M = 0\n",
    "- N = 1\n",
    "- N = max\n",
    "\n",
    "# N <= 100, 1000, 100000\n",
    "## Sampling\n",
    "- Sample from K things N times\n",
    "- Zipf distributed sampling (with truncation)\n",
    "\n",
    "## Connecting\n",
    "- Connect in a random tree\n",
    "- Connect in a star\n",
    "- Connect in a random tree + some other random edges\n",
    "\n",
    "# Each person friends with 1, 2 or N\n",
    "- Sampling is the same\n",
    "- Set 1, 2 and N to different subsets\n",
    "- Split and connect up in special way\n"
   ]
  },
  {
   "cell_type": "code",
   "execution_count": 16,
   "id": "38f79eea-9a76-4dcd-b47b-930ef76f5476",
   "metadata": {},
   "outputs": [],
   "source": [
    "def cases_for(N):\n",
    "    yield connect_star(sample_uniform(N, N))\n",
    "    yield connect_star(sample_uniform(N, N//3))\n",
    "    yield connect_star(sample_uniform(N, np.ceil(np.sqrt(N))))\n",
    "    yield connect_star(sample_uniform(N, 3))\n",
    "    \n",
    "    yield connect_random(sample_uniform(N, 3), min((N*(N-1))//2, 100000))\n",
    "    for alpha in [1.3, 2, 5]:\n",
    "        yield connect_random(sample_zipf(N, alpha))\n",
    "        yield connect_random(sample_zipf(N, alpha), min(2*N, 100000))\n",
    "        yield connect_random(sample_zipf(N, alpha), min((N*(N-1))//2, 100000))"
   ]
  },
  {
   "cell_type": "code",
   "execution_count": 34,
   "id": "c90a8d86-9049-4073-8bfd-5706e2a07e2d",
   "metadata": {},
   "outputs": [],
   "source": [
    "def gen_all_cases():\n",
    "    yield min_case()\n",
    "    yield max_case()\n",
    "    for c in cases_for(100):\n",
    "        yield c\n",
    "    for c in cases_for(1000):\n",
    "        yield c\n",
    "    for c in cases_for(100000):\n",
    "        yield c\n",
    "    yield connect_random(modify_sample_sub3(sample_uniform(100000, 3)), 100000)\n",
    "    yield connect_random(modify_sample_sub3(sample_weighted(100000, [0.998, 0.001, 0.001])), 100000)\n",
    "    yield connect_random(modify_sample_sub3(sample_weighted(100000, [0.9998, 0.0001, 0.0001])), 100000)\n",
    "    yield connect_random(modify_sample_sub3(sample_weighted(100000, [0.9999, 0.00005, 0.00005])), 100000)\n",
    "    yield connect_star(modify_sample_sub3(hideandseek(100000)))\n",
    "    yield connect_star(modify_sample_sub3(hideandseek(100000)))\n",
    "    yield connect_star(modify_sample_sub3(hideandseek(100000)))\n",
    "    yield connect_star(modify_sample_sub3(zeros(100000)))"
   ]
  },
  {
   "cell_type": "code",
   "execution_count": 35,
   "id": "a9af19cf-0d23-48c3-a9c1-db01934684f7",
   "metadata": {},
   "outputs": [
    {
     "name": "stderr",
     "output_type": "stream",
     "text": [
      "10it [00:00, 89.27it/s]"
     ]
    },
    {
     "name": "stdout",
     "output_type": "stream",
     "text": [
      "+ 1-min\n",
      "+ 100000-max-empty\n",
      "+ 100-star\n",
      "+ 100-star\n",
      "+ 100-star\n",
      "+ 100-star\n",
      "+ 100-randomtree\n",
      "+ 100-randomtree\n",
      "+ 100-randomtree\n",
      "+ 100-randomtree\n",
      "+ 100-randomtree\n",
      "+ 100-randomtree\n",
      "+ 100-randomtree\n",
      "+ 100-randomtree\n",
      "+ 100-randomtree\n",
      "+ 100-randomtree\n",
      "+ 1000-star\n",
      "+ 1000-star\n",
      "+ 1000-star\n",
      "+ 1000-star\n"
     ]
    },
    {
     "name": "stderr",
     "output_type": "stream",
     "text": [
      "21it [00:00, 19.93it/s]"
     ]
    },
    {
     "name": "stdout",
     "output_type": "stream",
     "text": [
      "+ 1000-randomtree\n",
      "+ 1000-randomtree\n",
      "+ 1000-randomtree\n"
     ]
    },
    {
     "name": "stderr",
     "output_type": "stream",
     "text": [
      "26it [00:01, 12.59it/s]"
     ]
    },
    {
     "name": "stdout",
     "output_type": "stream",
     "text": [
      "+ 1000-randomtree\n",
      "+ 1000-randomtree\n",
      "+ 1000-randomtree\n"
     ]
    },
    {
     "name": "stderr",
     "output_type": "stream",
     "text": [
      "29it [00:02,  8.93it/s]"
     ]
    },
    {
     "name": "stdout",
     "output_type": "stream",
     "text": [
      "+ 1000-randomtree\n",
      "+ 1000-randomtree\n",
      "+ 1000-randomtree\n"
     ]
    },
    {
     "name": "stderr",
     "output_type": "stream",
     "text": [
      "33it [00:03,  7.26it/s]"
     ]
    },
    {
     "name": "stdout",
     "output_type": "stream",
     "text": [
      "+ 1000-randomtree\n",
      "+ 100000-star\n",
      "+ 100000-star\n",
      "+ 100000-star\n",
      "+ 100000-star\n"
     ]
    },
    {
     "name": "stderr",
     "output_type": "stream",
     "text": [
      "35it [00:03,  6.81it/s]"
     ]
    },
    {
     "name": "stdout",
     "output_type": "stream",
     "text": [
      "+ 100000-randomtree\n",
      "+ 100000-randomtree\n"
     ]
    },
    {
     "name": "stderr",
     "output_type": "stream",
     "text": [
      "37it [00:04,  5.26it/s]"
     ]
    },
    {
     "name": "stdout",
     "output_type": "stream",
     "text": [
      "+ 100000-randomtree\n"
     ]
    },
    {
     "name": "stderr",
     "output_type": "stream",
     "text": [
      "38it [00:04,  4.71it/s]"
     ]
    },
    {
     "name": "stdout",
     "output_type": "stream",
     "text": [
      "+ 100000-randomtree\n"
     ]
    },
    {
     "name": "stderr",
     "output_type": "stream",
     "text": [
      "39it [00:05,  4.45it/s]"
     ]
    },
    {
     "name": "stdout",
     "output_type": "stream",
     "text": [
      "+ 100000-randomtree\n"
     ]
    },
    {
     "name": "stderr",
     "output_type": "stream",
     "text": [
      "40it [00:05,  4.22it/s]"
     ]
    },
    {
     "name": "stdout",
     "output_type": "stream",
     "text": [
      "+ 100000-randomtree\n"
     ]
    },
    {
     "name": "stderr",
     "output_type": "stream",
     "text": [
      "41it [00:05,  4.04it/s]"
     ]
    },
    {
     "name": "stdout",
     "output_type": "stream",
     "text": [
      "+ 100000-randomtree\n"
     ]
    },
    {
     "name": "stderr",
     "output_type": "stream",
     "text": [
      "42it [00:05,  3.84it/s]"
     ]
    },
    {
     "name": "stdout",
     "output_type": "stream",
     "text": [
      "+ 100000-randomtree\n"
     ]
    },
    {
     "name": "stderr",
     "output_type": "stream",
     "text": [
      "43it [00:06,  3.78it/s]"
     ]
    },
    {
     "name": "stdout",
     "output_type": "stream",
     "text": [
      "+ 100000-randomtree\n"
     ]
    },
    {
     "name": "stderr",
     "output_type": "stream",
     "text": [
      "44it [00:06,  3.73it/s]"
     ]
    },
    {
     "name": "stdout",
     "output_type": "stream",
     "text": [
      "+ 100000-randomtree\n"
     ]
    },
    {
     "name": "stderr",
     "output_type": "stream",
     "text": [
      "45it [00:06,  3.55it/s]"
     ]
    },
    {
     "name": "stdout",
     "output_type": "stream",
     "text": [
      "+ 100000-randomtree\n"
     ]
    },
    {
     "name": "stderr",
     "output_type": "stream",
     "text": [
      "46it [00:07,  3.54it/s]"
     ]
    },
    {
     "name": "stdout",
     "output_type": "stream",
     "text": [
      "+ 100000-randomtree\n"
     ]
    },
    {
     "name": "stderr",
     "output_type": "stream",
     "text": [
      "47it [00:07,  3.54it/s]"
     ]
    },
    {
     "name": "stdout",
     "output_type": "stream",
     "text": [
      "+ 100000-randomtree\n"
     ]
    },
    {
     "name": "stderr",
     "output_type": "stream",
     "text": [
      "52it [00:07,  6.71it/s]"
     ]
    },
    {
     "name": "stdout",
     "output_type": "stream",
     "text": [
      "+ 100000-randomtree\n",
      "+ 100000-star\n",
      "+ 100000-star\n",
      "+ 100000-star\n",
      "+ 100000-star\n"
     ]
    },
    {
     "name": "stderr",
     "output_type": "stream",
     "text": [
      "\n"
     ]
    }
   ],
   "source": [
    "CASES = list(tqdm(gen_all_cases()))"
   ]
  },
  {
   "cell_type": "code",
   "execution_count": 36,
   "id": "9e2333e9-52fb-4229-b178-7d23078b6b91",
   "metadata": {},
   "outputs": [
    {
     "name": "stdout",
     "output_type": "stream",
     "text": [
      "Validation passed!\n"
     ]
    }
   ],
   "source": [
    "# Validate\n",
    "for c in CASES:\n",
    "    try:\n",
    "        c.validate()\n",
    "    except AssertionError:\n",
    "        print(c)\n",
    "        raise\n",
    "print(\"Validation passed!\")"
   ]
  },
  {
   "cell_type": "code",
   "execution_count": 13,
   "id": "5dec0871-b36e-4cbf-aabc-81fbf98a729e",
   "metadata": {},
   "outputs": [
    {
     "name": "stdout",
     "output_type": "stream",
     "text": [
      "/home/spdskatr/Code/ACIO/2022Contest1/messaging/data\n"
     ]
    }
   ],
   "source": [
    "# Output\n",
    "print(os.getcwd())\n",
    "OUTPUT_DIR = \".\"\n",
    "for i, c in enumerate(CASES):\n",
    "    c.save(OUTPUT_DIR, i)"
   ]
  },
  {
   "cell_type": "code",
   "execution_count": null,
   "id": "bdc3cfa9-8191-41be-b049-8708645e6a74",
   "metadata": {},
   "outputs": [],
   "source": []
  }
 ],
 "metadata": {
  "kernelspec": {
   "display_name": "Python 3 (ipykernel)",
   "language": "python",
   "name": "python3"
  },
  "language_info": {
   "codemirror_mode": {
    "name": "ipython",
    "version": 3
   },
   "file_extension": ".py",
   "mimetype": "text/x-python",
   "name": "python",
   "nbconvert_exporter": "python",
   "pygments_lexer": "ipython3",
   "version": "3.10.1"
  }
 },
 "nbformat": 4,
 "nbformat_minor": 5
}
