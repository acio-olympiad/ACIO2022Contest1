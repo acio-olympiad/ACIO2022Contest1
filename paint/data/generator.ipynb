{
 "cells": [
  {
   "cell_type": "markdown",
   "id": "815d4a59-97f7-45c2-98db-aa60471d39fd",
   "metadata": {},
   "source": [
    "# Problem 3 - Purchasing Paint"
   ]
  },
  {
   "cell_type": "code",
   "execution_count": 98,
   "id": "4e3767bb-d9fa-4749-91d8-e28d50ffbcd3",
   "metadata": {},
   "outputs": [],
   "source": [
    "from tqdm import tqdm\n",
    "import numpy as np\n",
    "import os\n",
    "\n",
    "# Sometimes an assertion fails. Just shuffle the seed again when that happens. #ostrich\n",
    "rng = np.random.default_rng(42838858382)"
   ]
  },
  {
   "cell_type": "code",
   "execution_count": 99,
   "id": "6a8729e9-9d23-4ba8-93c1-c73de1e6442b",
   "metadata": {},
   "outputs": [],
   "source": [
    "class Case:\n",
    "    def __init__(self, name, K, D, costs):\n",
    "        self.name = name\n",
    "        self.K = K\n",
    "        self.D = D\n",
    "        self.costs = costs\n",
    "    \n",
    "    def validate(self):\n",
    "        N = len(self.costs)\n",
    "        seen_colours = set()\n",
    "        assert 1 <= N <= 2000\n",
    "        assert 1 <= self.K <= 2000\n",
    "        assert 1 <= self.D <= N\n",
    "        for d, c in self.costs:\n",
    "            assert 0 <= c <= 1000000000\n",
    "            assert 1 <= d <= self.D\n",
    "            seen_colours.add(d)\n",
    "        assert seen_colours == set(range(1, self.D+1))\n",
    "    \n",
    "    def save(self, path, index):\n",
    "        output_file = os.path.join(path, f\"{len(self.costs)}-{self.K}-{self.D}-{self.name}-{index}.in\")\n",
    "        with open(output_file, \"w\") as f:\n",
    "            f.write(f\"{len(self.costs)} {self.K} {self.D}\\n\")\n",
    "            for a, b in self.costs:\n",
    "                f.write(f\"{a} {b}\\n\")\n",
    "        return output_file\n",
    "\n",
    "    def __str__(self):\n",
    "        return f\"[Case {len(self.costs)}-{self.K}-{self.D}-{self.name}: {self.costs}]\""
   ]
  },
  {
   "cell_type": "code",
   "execution_count": 100,
   "id": "ce73dff3-cb02-4aab-8c94-b9795183c5fd",
   "metadata": {},
   "outputs": [],
   "source": [
    "def min_case():\n",
    "    K, D = 1, 1\n",
    "    return Case(\"min\", K, D, [(1, 10**9)])\n",
    "\n",
    "def max_case():\n",
    "    N, K, D = 2000, 1, 2000\n",
    "    return Case(\"max\", K, D, [(i, 1000000000) for i in range(1, 2001)])\n",
    "\n",
    "def uniform_distribute(N, D):\n",
    "    res = [(N + i) // D for i in range(D)]\n",
    "    assert sum(res) == N\n",
    "    return np.array(res).astype(int)\n",
    "\n",
    "def random_distribute(N, D):\n",
    "    if N == 1:\n",
    "        return np.array([1] + [0] * (D-1))\n",
    "    res = set()\n",
    "    while len(res) < D-1:\n",
    "        res.add(rng.integers(1, N))\n",
    "    parts = np.concatenate([np.array([0]), np.sort(list(res)), np.array([N])])\n",
    "    return np.diff(parts).astype(int)"
   ]
  },
  {
   "cell_type": "code",
   "execution_count": 101,
   "id": "bef81883-6480-49df-be2a-0d1fa9e56646",
   "metadata": {},
   "outputs": [],
   "source": [
    "def make_case(N, D, K, total, random_paints, random_weights, random_costs):\n",
    "    print(f\"Make {N} {D} {K} {total}\")\n",
    "    if random_paints:\n",
    "        paints = random_distribute(N, D)\n",
    "    else:\n",
    "        paints = uniform_distribute(N, D)\n",
    "    \n",
    "    if random_weights:\n",
    "        weights = random_distribute(total, D)\n",
    "    else:\n",
    "        weights = uniform_distribute(total, D)\n",
    "    \n",
    "    res = []\n",
    "    for i, (p, w) in enumerate(zip(paints, weights)):\n",
    "        if random_costs:\n",
    "            vals = random_distribute(w, p)\n",
    "        else:\n",
    "            vals = uniform_distribute(w, p)\n",
    "        \n",
    "        vals = np.min(np.array([np.repeat(1000000000, p), vals]), axis=0)\n",
    "        \n",
    "        for v in vals:\n",
    "            res.append((i+1, v))\n",
    "    \n",
    "    return Case(f\"{int(random_paints)}{int(random_weights)}{int(random_costs)}\", K, D, res)"
   ]
  },
  {
   "cell_type": "code",
   "execution_count": 102,
   "id": "6d22c5d2-f124-4d4c-ba98-1c036cd3ea83",
   "metadata": {},
   "outputs": [
    {
     "name": "stdout",
     "output_type": "stream",
     "text": [
      "Make 10 1 10 5000000000\n"
     ]
    },
    {
     "data": {
      "text/plain": [
       "'[Case 10-10-1-000: [(1, 500000000), (1, 500000000), (1, 500000000), (1, 500000000), (1, 500000000), (1, 500000000), (1, 500000000), (1, 500000000), (1, 500000000), (1, 500000000)]]'"
      ]
     },
     "execution_count": 102,
     "metadata": {},
     "output_type": "execute_result"
    }
   ],
   "source": [
    "str(make_case(10, 1, 10, 5000000000, False, False, False))"
   ]
  },
  {
   "cell_type": "markdown",
   "id": "c86d6bf0-076f-4ffb-8f72-033c7634c28f",
   "metadata": {},
   "source": [
    "# Dataplan\n",
    "\n",
    "## Subtask 1 - K = 1\n",
    "## Subtask 2 - K = 2\n",
    "## Subtask 3 - N <= 18\n",
    "## Subtask 4 - Total cost <= 2e3, Kth best is always take best\n",
    "- Generate a bunch of small cases and pray some of them end up here\n",
    "- Make N large enough and uniformly distribute paint costs\n",
    "## Subtask 5 - No further constraints\n",
    "- Uniformly distribute paint types\n",
    "- Choose for paint costs either uniform or random\n",
    "- Shold be good enough lol\n",
    "- Worst case - consider worst possible option"
   ]
  },
  {
   "cell_type": "code",
   "execution_count": 107,
   "id": "8a0b5036-c8e3-4ccf-8183-d4ea22bd270c",
   "metadata": {},
   "outputs": [],
   "source": [
    "def gen_cases_for(N, K, total):\n",
    "    if K <= N:\n",
    "        yield make_case(N, 1, K, total, True, True, True)\n",
    "        yield make_case(N, 1, K, total, False, False, False)\n",
    "    if K * 8 <= N*N:\n",
    "        yield make_case(N, 2, K, total, True, False, True)\n",
    "        yield make_case(N, 2, K, total, True, True, True)\n",
    "        yield make_case(N, 2, K, total, False, False, False)\n",
    "    \n",
    "    yield make_case(N, 10, K, total, True, True, True)\n",
    "    yield make_case(N, 10, K, total, False, False, True)\n",
    "    yield make_case(N, 10, K, total, False, True, True)\n",
    "    \n",
    "    if N >= 100:\n",
    "        yield make_case(N, 100, K, total, True, True, True)\n",
    "        yield make_case(N, 100, K, total, False, True, True)\n",
    "    \n",
    "    yield make_case(N, N//2, K, total, False, False, False)\n",
    "    yield make_case(N, N//2, K, total, False, False, True)\n",
    "    yield make_case(N, N//2, K, total, False, True, False)\n",
    "    yield make_case(N, N//2, K, total, False, True, True)\n",
    "    \n",
    "    yield make_case(N, N, K, total, False, False, False)\n",
    "\n",
    "SUBTASKS = [\n",
    "    (2000, 1, 1000 * 1000000000),\n",
    "    (2000, 2, 1000 * 1000000000),\n",
    "    (18, 18, 2000),\n",
    "    (18, 2000, 2000),\n",
    "    (300, 300, 150 * 1000000000),\n",
    "    (2000, 2000, 1000 * 1000000000)\n",
    "]\n",
    "def gen_all_cases():\n",
    "    # Min, max\n",
    "    yield min_case()\n",
    "    yield max_case()\n",
    "    \n",
    "    for n, k, tot in SUBTASKS:\n",
    "        for c in gen_cases_for(n, k, tot):\n",
    "            yield c\n",
    "    \n",
    "    # Special subtask 4 stuff\n",
    "    yield make_case(2000, 2, 2000, 2000, False, False, False)\n",
    "    yield make_case(2000, 10, 2000, 2000, False, False, False)\n",
    "    yield make_case(2000, 100, 2000, 2000, False, False, False)\n",
    "    yield make_case(2000, 1000, 2000, 2000, False, False, False)\n",
    "    "
   ]
  },
  {
   "cell_type": "code",
   "execution_count": 108,
   "id": "56ffc401-1533-41e0-b680-cc2b63d76caa",
   "metadata": {},
   "outputs": [
    {
     "name": "stderr",
     "output_type": "stream",
     "text": [
      "13it [00:00, 122.02it/s]"
     ]
    },
    {
     "name": "stdout",
     "output_type": "stream",
     "text": [
      "Make 2000 1 1 1000000000000\n",
      "Make 2000 1 1 1000000000000\n",
      "Make 2000 2 1 1000000000000\n",
      "Make 2000 2 1 1000000000000\n",
      "Make 2000 2 1 1000000000000\n",
      "Make 2000 10 1 1000000000000\n",
      "Make 2000 10 1 1000000000000\n",
      "Make 2000 10 1 1000000000000\n",
      "Make 2000 100 1 1000000000000\n",
      "Make 2000 100 1 1000000000000\n",
      "Make 2000 1000 1 1000000000000\n",
      "Make 2000 1000 1 1000000000000\n",
      "Make 2000 1000 1 1000000000000\n",
      "Make 2000 1000 1 1000000000000\n",
      "Make 2000 2000 1 1000000000000\n",
      "Make 2000 1 2 1000000000000\n",
      "Make 2000 1 2 1000000000000\n",
      "Make 2000 2 2 1000000000000\n",
      "Make 2000 2 2 1000000000000\n",
      "Make 2000 2 2 1000000000000\n",
      "Make 2000 10 2 1000000000000\n"
     ]
    },
    {
     "name": "stderr",
     "output_type": "stream",
     "text": [
      "38it [00:00, 112.97it/s]"
     ]
    },
    {
     "name": "stdout",
     "output_type": "stream",
     "text": [
      "Make 2000 10 2 1000000000000\n",
      "Make 2000 10 2 1000000000000\n",
      "Make 2000 100 2 1000000000000\n",
      "Make 2000 100 2 1000000000000\n",
      "Make 2000 1000 2 1000000000000\n",
      "Make 2000 1000 2 1000000000000\n",
      "Make 2000 1000 2 1000000000000\n",
      "Make 2000 1000 2 1000000000000\n",
      "Make 2000 2000 2 1000000000000\n",
      "Make 18 1 18 2000\n",
      "Make 18 1 18 2000\n",
      "Make 18 2 18 2000\n",
      "Make 18 2 18 2000\n",
      "Make 18 2 18 2000\n",
      "Make 18 10 18 2000\n",
      "Make 18 10 18 2000\n",
      "Make 18 10 18 2000\n",
      "Make 18 9 18 2000\n",
      "Make 18 9 18 2000\n",
      "Make 18 9 18 2000\n",
      "Make 18 9 18 2000\n",
      "Make 18 18 18 2000\n",
      "Make 18 10 2000 2000\n",
      "Make 18 10 2000 2000\n",
      "Make 18 10 2000 2000\n",
      "Make 18 9 2000 2000\n",
      "Make 18 9 2000 2000\n",
      "Make 18 9 2000 2000\n",
      "Make 18 9 2000 2000\n",
      "Make 18 18 2000 2000\n",
      "Make 300 1 300 150000000000\n",
      "Make 300 1 300 150000000000\n",
      "Make 300 2 300 150000000000\n",
      "Make 300 2 300 150000000000\n",
      "Make 300 2 300 150000000000\n",
      "Make 300 10 300 150000000000\n",
      "Make 300 10 300 150000000000\n",
      "Make 300 10 300 150000000000\n",
      "Make 300 100 300 150000000000\n",
      "Make 300 100 300 150000000000\n",
      "Make 300 150 300 150000000000\n",
      "Make 300 150 300 150000000000\n",
      "Make 300 150 300 150000000000\n",
      "Make 300 150 300 150000000000\n",
      "Make 300 300 300 150000000000\n",
      "Make 2000 1 2000 1000000000000\n",
      "Make 2000 1 2000 1000000000000\n",
      "Make 2000 2 2000 1000000000000\n",
      "Make 2000 2 2000 1000000000000\n",
      "Make 2000 2 2000 1000000000000\n",
      "Make 2000 10 2000 1000000000000\n",
      "Make 2000 10 2000 1000000000000\n",
      "Make 2000 10 2000 1000000000000\n"
     ]
    },
    {
     "name": "stderr",
     "output_type": "stream",
     "text": [
      "87it [00:00, 156.93it/s]"
     ]
    },
    {
     "name": "stdout",
     "output_type": "stream",
     "text": [
      "Make 2000 100 2000 1000000000000\n",
      "Make 2000 100 2000 1000000000000\n",
      "Make 2000 1000 2000 1000000000000\n",
      "Make 2000 1000 2000 1000000000000\n",
      "Make 2000 1000 2000 1000000000000\n",
      "Make 2000 1000 2000 1000000000000\n",
      "Make 2000 2000 2000 1000000000000\n",
      "Make 2000 2 2000 2000\n",
      "Make 100 2 2000 2000\n",
      "Make 100 2 2000 2000\n",
      "Make 100 2 2000 2000\n"
     ]
    },
    {
     "name": "stderr",
     "output_type": "stream",
     "text": [
      "\n"
     ]
    }
   ],
   "source": [
    "ALL_CASES = list(tqdm(gen_all_cases()))"
   ]
  },
  {
   "cell_type": "code",
   "execution_count": 109,
   "id": "1aff7148-4480-488d-ad61-40c08bfc3f94",
   "metadata": {},
   "outputs": [
    {
     "name": "stdout",
     "output_type": "stream",
     "text": [
      "Validation passed!\n"
     ]
    }
   ],
   "source": [
    "# Validate\n",
    "for c in ALL_CASES:\n",
    "    try:\n",
    "        c.validate()\n",
    "    except AssertionError:\n",
    "        print(c)\n",
    "        raise\n",
    "print(\"Validation passed!\")"
   ]
  },
  {
   "cell_type": "code",
   "execution_count": 83,
   "id": "6347a609-2fa1-4748-b9f5-643fb3e8cbe5",
   "metadata": {},
   "outputs": [
    {
     "name": "stdout",
     "output_type": "stream",
     "text": [
      "/home/spdskatr/Code/ACIO/2022Contest1/paint/data\n"
     ]
    }
   ],
   "source": [
    "# Output\n",
    "print(os.getcwd())\n",
    "OUTPUT_DIR = \".\"\n",
    "for i, c in enumerate(ALL_CASES):\n",
    "    c.save(OUTPUT_DIR, i)"
   ]
  },
  {
   "cell_type": "code",
   "execution_count": 113,
   "id": "d1830011-65a1-4278-a917-6bce1346358e",
   "metadata": {},
   "outputs": [
    {
     "name": "stdout",
     "output_type": "stream",
     "text": [
      "Make 100 2 2000 2000\n"
     ]
    },
    {
     "data": {
      "text/plain": [
       "'[Case 100-2000-2-111: [(1, 4), (1, 8), (1, 4), (1, 67), (1, 60), (1, 26), (1, 39), (1, 54), (1, 13), (1, 16), (1, 37), (1, 8), (1, 6), (1, 35), (1, 27), (1, 52), (1, 69), (1, 15), (1, 39), (1, 4), (1, 399), (1, 26), (1, 13), (1, 11), (1, 36), (1, 7), (1, 17), (1, 68), (1, 10), (2, 16), (2, 8), (2, 24), (2, 2), (2, 3), (2, 7), (2, 13), (2, 4), (2, 2), (2, 25), (2, 14), (2, 3), (2, 3), (2, 8), (2, 9), (2, 11), (2, 1), (2, 1), (2, 12), (2, 18), (2, 16), (2, 18), (2, 7), (2, 1), (2, 7), (2, 10), (2, 3), (2, 11), (2, 4), (2, 9), (2, 2), (2, 88), (2, 7), (2, 5), (2, 4), (2, 5), (2, 24), (2, 5), (2, 44), (2, 19), (2, 25), (2, 22), (2, 37), (2, 1), (2, 6), (2, 7), (2, 3), (2, 5), (2, 19), (2, 5), (2, 3), (2, 11), (2, 2), (2, 4), (2, 6), (2, 47), (2, 10), (2, 7), (2, 3), (2, 31), (2, 8), (2, 6), (2, 13), (2, 2), (2, 6), (2, 11), (2, 8), (2, 3), (2, 11), (2, 33), (2, 2)]]'"
      ]
     },
     "execution_count": 113,
     "metadata": {},
     "output_type": "execute_result"
    }
   ],
   "source": [
    "str(make_case(100, 2, 2000, 2000, True, True, True))"
   ]
  },
  {
   "cell_type": "code",
   "execution_count": null,
   "id": "84dba44c-7434-430f-9b89-c5c94d52c5ff",
   "metadata": {},
   "outputs": [],
   "source": []
  }
 ],
 "metadata": {
  "kernelspec": {
   "display_name": "Python 3 (ipykernel)",
   "language": "python",
   "name": "python3"
  },
  "language_info": {
   "codemirror_mode": {
    "name": "ipython",
    "version": 3
   },
   "file_extension": ".py",
   "mimetype": "text/x-python",
   "name": "python",
   "nbconvert_exporter": "python",
   "pygments_lexer": "ipython3",
   "version": "3.10.1"
  }
 },
 "nbformat": 4,
 "nbformat_minor": 5
}
