{
 "cells": [
  {
   "cell_type": "markdown",
   "id": "a6289438-1da8-4ad3-83e0-2e49965fd25c",
   "metadata": {},
   "source": [
    "# Problem 1 - Squirrel Postal Service"
   ]
  },
  {
   "cell_type": "code",
   "execution_count": 1,
   "id": "88996f01-b332-4251-9b59-58cc5deb0b31",
   "metadata": {},
   "outputs": [],
   "source": [
    "import numpy as np\n",
    "from tqdm import tqdm\n",
    "import os\n",
    "np.random.seed(32987342)"
   ]
  },
  {
   "cell_type": "code",
   "execution_count": 2,
   "id": "462eda73-ced2-437f-ae3b-5832450ea28d",
   "metadata": {},
   "outputs": [],
   "source": [
    "# Handmade\n",
    "def gen_one_node():\n",
    "    return \"one_node\", []\n",
    "\n",
    "def gen_two_nodes():\n",
    "    return \"two_node\", [(1, 2)]"
   ]
  },
  {
   "cell_type": "code",
   "execution_count": 3,
   "id": "c920c59c-857b-4346-9191-ddf87fe2ebb7",
   "metadata": {},
   "outputs": [],
   "source": [
    "def gen_star(n):\n",
    "    return f\"star-cent-{n}\", [(1, i) for i in range(2, n+1)]\n",
    "\n",
    "def gen_star_2(n):\n",
    "    return f\"star-noncent-{n}\", [(2, i) for i in range(1, n+1) if i != 2]\n",
    "\n",
    "def gen_spiky(n):\n",
    "    res = []\n",
    "    for i in range(2, n+1):\n",
    "        par = i-1 if i % 2 == 0 else i-2\n",
    "        res.append((par, i))\n",
    "    return f\"spiky-{n}\", res\n",
    "\n",
    "def gen_complete_bintree(n):\n",
    "    res = []\n",
    "    for i in range(2, n+1):\n",
    "        par = i // 2\n",
    "        res.append((par, i))\n",
    "    return f\"complete-bintree-{n}\", res\n",
    "\n",
    "def gen_random_graph(n):\n",
    "    res = []\n",
    "    for i in range(2, n+1):\n",
    "        par = np.random.randint(1, i)\n",
    "        res.append((par, i))\n",
    "    return f\"random-{n}\", res\n",
    "\n",
    "def gen_line(n):\n",
    "    return f\"line-{n}\", [(i-1, i) for i in range(2, n+1)]"
   ]
  },
  {
   "cell_type": "code",
   "execution_count": 4,
   "id": "9512af16-7744-4c0b-b8ac-fbf232b5824c",
   "metadata": {},
   "outputs": [],
   "source": [
    "def permute(case):\n",
    "    name, edges = case\n",
    "    name = f\"{name}-permuted\"\n",
    "    perm = np.random.permutation(len(edges) + 1) + 1\n",
    "    return name, perm[np.array(edges) - 1]"
   ]
  },
  {
   "cell_type": "code",
   "execution_count": 5,
   "id": "e5403e3a-fa63-4e12-872f-d7a0befb591a",
   "metadata": {},
   "outputs": [],
   "source": [
    "def validate(case):\n",
    "    name, edges = case\n",
    "    N = len(edges) + 1\n",
    "    seen = set()\n",
    "    for a, b in edges:\n",
    "        assert a != b and (1 <= a <= N) and (1 <= b <= N)\n",
    "        seen.add(a)\n",
    "        seen.add(b)\n",
    "    assert N == 1 or seen == set(range(1, N+1))\n",
    "    return name, N, edges\n",
    "\n",
    "def print_case(path, case):\n",
    "    name, n, edges = validate(case)\n",
    "    with open(os.path.join(path, f\"{name}.in\"), \"w\") as f:\n",
    "        f.write(f\"{n}\\n\")\n",
    "        for a, b in edges:\n",
    "            f.write(f\"{a} {b}\\n\")"
   ]
  },
  {
   "cell_type": "markdown",
   "id": "e058b0ab-2499-4c26-ab9b-db40a5a36d6f",
   "metadata": {},
   "source": [
    "## Dataplan\n",
    "\n",
    "### Handmade\n",
    "- 1 node\n",
    "- 2 nodes\n",
    "\n",
    "### Subtask 1 + 3\n",
    " - Star centered at 1\n",
    " - Star centered at 2\n",
    " - Spiky\n",
    " - Complete Binary Tree\n",
    " - Random graph\n",
    " \n",
    "### Subtask 2\n",
    " - Sequential line\n",
    " - Random line"
   ]
  },
  {
   "cell_type": "code",
   "execution_count": 7,
   "id": "7ca1d4e6-f926-4ca4-96d3-78456793e82a",
   "metadata": {},
   "outputs": [],
   "source": [
    "CASES = [\n",
    "    gen_one_node(),\n",
    "    gen_two_nodes(),\n",
    "\n",
    "    gen_star(1000),\n",
    "    gen_star_2(1000),\n",
    "    gen_spiky(1000),\n",
    "    permute(gen_spiky(1000)),\n",
    "    gen_complete_bintree(511),\n",
    "    permute(gen_complete_bintree(511)),\n",
    "    gen_complete_bintree(1000),\n",
    "    permute(gen_random_graph(1000)),\n",
    "    permute(gen_random_graph(1000)),\n",
    "    permute(gen_random_graph(1000)),\n",
    "    permute(gen_random_graph(1000)),\n",
    "    permute(gen_random_graph(1000)),\n",
    "    \n",
    "    gen_line(1000),\n",
    "    permute(gen_line(1000)),\n",
    "    permute(gen_line(1000)),\n",
    "    permute(gen_line(1000)),\n",
    "    gen_line(100000),\n",
    "    permute(gen_line(100000)),\n",
    "    permute(gen_line(100000)),\n",
    "    permute(gen_line(100000)),\n",
    "    permute(gen_line(100000)),\n",
    "    permute(gen_line(100000)),\n",
    "    permute(gen_line(100000)),\n",
    "    \n",
    "    gen_star(100000),\n",
    "    gen_star_2(100000),\n",
    "    gen_spiky(100000),\n",
    "    permute(gen_spiky(100000)),\n",
    "    gen_complete_bintree(65535),\n",
    "    permute(gen_complete_bintree(100000)),\n",
    "    gen_complete_bintree(100000),\n",
    "    permute(gen_random_graph(100000)),\n",
    "    permute(gen_random_graph(100000)),\n",
    "    permute(gen_random_graph(100000)),\n",
    "    permute(gen_random_graph(100000)),\n",
    "    permute(gen_random_graph(100000))\n",
    "]"
   ]
  },
  {
   "cell_type": "code",
   "execution_count": 11,
   "id": "de34109f-9b33-4114-a2e9-97df8d76fa78",
   "metadata": {},
   "outputs": [
    {
     "name": "stdout",
     "output_type": "stream",
     "text": [
      "/home/spdskatr/Code/ACIO\n"
     ]
    }
   ],
   "source": [
    "# Check you're generating to the right place!\n",
    "print(os.environ[\"PWD\"])"
   ]
  },
  {
   "cell_type": "code",
   "execution_count": 8,
   "id": "caa0c895-d435-432d-9b7c-829ac45fe468",
   "metadata": {},
   "outputs": [
    {
     "name": "stderr",
     "output_type": "stream",
     "text": [
      "100%|███████████████████████████████████████████| 37/37 [00:04<00:00,  9.09it/s]\n"
     ]
    }
   ],
   "source": [
    "DATAPATH = \".\"\n",
    "for case in tqdm(CASES):\n",
    "    print_case(DATAPATH, case)"
   ]
  }
 ],
 "metadata": {
  "kernelspec": {
   "display_name": "Python 3 (ipykernel)",
   "language": "python",
   "name": "python3"
  },
  "language_info": {
   "codemirror_mode": {
    "name": "ipython",
    "version": 3
   },
   "file_extension": ".py",
   "mimetype": "text/x-python",
   "name": "python",
   "nbconvert_exporter": "python",
   "pygments_lexer": "ipython3",
   "version": "3.10.1"
  }
 },
 "nbformat": 4,
 "nbformat_minor": 5
}
